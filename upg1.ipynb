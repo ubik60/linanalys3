{
 "cells": [
  {
   "cell_type": "markdown",
   "metadata": {},
   "source": [
    "# Dator uppgifter för gruppövning 1\n",
    "\n",
    "- Innan ni skickar in så gör jag en muntlig och okulär kontroll. \n",
    "- Vanligtvis så räcker det med att svara med en eller två plottar eller en kort text på några meningar. \n",
    "- Jag har lagt in litet kod efter varje uppgift för att starta upp om ni vill. \n",
    "  Ni kan ta bort semikolon om ni önskar se resultatet av koden. "
   ]
  },
  {
   "cell_type": "markdown",
   "metadata": {},
   "source": [
    "\n",
    "**1.** \n",
    "Betrakta funktionen $f:\\mathbb R \\to \\mathbb C$ given av \n",
    "$$ f(x) = x^{e^{-x^2}}. $$\n",
    "\n",
    "- a) Plotta punkterna $f(x_i)$ i komplexa talplanet för $x_i = -2 + i\\frac14$, $i=0,\\dots,16$. \n",
    "     Ni kan använda `plot` tillsammans med `real()` samt `imag()` \n",
    "     för att få $x$- och $y$-koordinater för plotten.\n",
    "\n",
    "- b) För $x\\ge0$ så är $f(x)$ reellvärd. \n",
    "   Plotta funktionen $f(x)$ som en `stem`-plot för $x_j = j/10$, $j=0,\\dots,30$.\n",
    "   \n",
    "Svara med att skicka in plottarna. \n",
    "\n",
    "Ni kan börja med följande kod. "
   ]
  },
  {
   "cell_type": "code",
   "execution_count": 14,
   "metadata": {},
   "outputs": [
    {
     "data": {
      "image/png": "[encoded data removed]",
      "text/plain": [
       "<IPython.core.display.Image object>"
      ]
     },
     "metadata": {},
     "output_type": "display_data"
    }
   ],
   "source": [
    "f = @(x) x.^exp(-x.^2); % Ger en funktion\n",
    "\n",
    "x = -2:0.25:2;\n",
    "\n",
    "z1 = f(x);\n",
    "\n",
    "plot(real(z1),imag(z1),'xr');"
   ]
  },
  {
   "cell_type": "markdown",
   "metadata": {},
   "source": [
    "\n",
    "**2.** En slumpmässig $10\\times 10$ matris $A$ kan skapas med anropet `randn(10,10)`. \n",
    "- **(a)** Plotta egenvärdena till $A$ i komplexa talplanet. \n",
    "- **(b)** Plotta egenvärdena till $B = A\\cdot A'$ i komplexa talplanet. \n",
    "- **(c)** Formulera en känd sats som förklarar att egenvärdena till $B$ är reella. \n",
    "\n",
    "Använd `real()` och `imag()` för $x$- och $y$-koordinater. "
   ]
  },
  {
   "cell_type": "code",
   "execution_count": 15,
   "metadata": {},
   "outputs": [],
   "source": [
    "A = randn(10,10);\n",
    "B = A * A';"
   ]
  },
  {
   "cell_type": "markdown",
   "metadata": {},
   "source": [
    "**3.** Med matrisen $B$ som i uppgiften ovan, använd `[U L] = eig(B)` \n",
    "för att få en bas av egenvektorer till $B$ som kolonner i matrisen $U$.\n",
    "\n",
    "- **(a)** Beräkna matrisprodukten $U \\cdot U^*$ och avrunda till 3 decimaler. Vad visar detta?\n",
    "- **(b)** Beräkna matrisprodukten $C = U^{-1}\\cdot B \\cdot U$ och plotta matrisprodukten med `imagesc()`. Detta verifierar att kolonnerna i $U$ är egenvektorer till $B$. Jämför med matrisen $L$ erhållen med anropet av `eig()` genom att beräkna det maximala matriselement i matrisdifferensen $C-L$."
   ]
  },
  {
   "cell_type": "code",
   "execution_count": 16,
   "metadata": {},
   "outputs": [],
   "source": [
    "[U L] = eig(B);\n",
    "round(U'*U*1000)/1000;"
   ]
  },
  {
   "cell_type": "markdown",
   "metadata": {},
   "source": [
    "**4.** I rummet $\\mathbb C^3$, låt shiftoperatorn $S$ och den tidsinvarianta operatorn $A$ ges av \n",
    "\n",
    "$$  S = \n",
    "    \\begin{bmatrix}\n",
    "    0 & 0 & 1\\\\ 1 & 0 & 0 \\\\ 0 & 1 & 0\n",
    "    \\end{bmatrix}\n",
    "    \\quad\\text{och}\\quad\n",
    "         A = \n",
    "    \\begin{bmatrix}\n",
    "       2 & 1 & 5\\\\ 5 & 2 & 1 \\\\ 1 & 5 & 2\n",
    "    \\end{bmatrix}.\n",
    "$$\n",
    "\n",
    "- (a) Verifiera i MATLAB att $A S = S A$ genom att beräkna kommutatorn $AS - SA$. \n",
    "- (b) Låt $\\delta = (1,0,0)$ ge *impulsen* och låt $h = A\\delta$ ge *impulssvaret*. \n",
    "    Använd kommandot `circulant` i MATLAB för att återskapa $A$ från $h$. Visa också att $A$ kan skrivas som ett polynom i $S$ med koefficienter från $h$.\n",
    "- (c) Skapa de tidsinvarianta operatorer $L$ och $H$ som har impulssvar $(1, 1, 0)$ respektive $(1,-1,0)$. (Lågpassfilter respektive högpassfilter). "
   ]
  },
  {
   "cell_type": "code",
   "execution_count": null,
   "metadata": {},
   "outputs": [],
   "source": []
  },
  {
   "cell_type": "code",
   "execution_count": 17,
   "metadata": {},
   "outputs": [],
   "source": [
    "S = [ 0 0 1; 1 0 0; 0 1 0];\n",
    "A = [ 2 1 5; 5 2 1; 1 5 2];\n",
    "delta = [1 0 0]';\n",
    "h = A * delta;"
   ]
  },
  {
   "cell_type": "markdown",
   "metadata": {},
   "source": [
    "**5.** Konstruera den diskreta fouriertransformen $\\mathscr T$ som en matris `T` och dess invers $\\mathscr T^{-1}$ som en invers `Tinv` i MATLAB. \n",
    "\n",
    "- (a) Verifiera att kolumnerna $\\{u_0,u_1,u_2\\}$ i matrisen $\\mathscr T^{-1}$ är egenvektorer till både $A$ och $S$ genom att diagonalisera $A$ och $S$ med en lämplig matrisprodukt. Visa också att de är **ortogonala** genom att beräkna deras skalärprodukt. (Skalärprodukten $\\langle u, v\\rangle$ beräknas i MATLAB med `v' * u` om både $u$ och $v$ representeras som kolonnmatriser.)\n",
    "- (b) Beräkna överföringsfunktionen $H=\\mathscr T h$. Plotta med `bar` både funktionen `h` och dess amplitudspektra `abs(H)`. Gör två plottar i en matris med `subplot`. \n",
    " Använd `xlabel(\"i\")` och `xlabel(\"k\")` för att märka $x$-axeln med värdena $i,k=0,1,2$. \n",
    "- (c) Verifiera att `T*h` ger samma svar som MATLAB kommandot `fft(h)`. "
   ]
  },
  {
   "cell_type": "code",
   "execution_count": 18,
   "metadata": {},
   "outputs": [],
   "source": [
    "a = exp(I*2*pi/3);\n",
    "a1 = a^(-1);\n",
    "T = [ 1 1 1; 1 a1 a1^2; 1 a1^2 a1^4];\n",
    "Tinv = (1/3) * [1 1 1; 1 a a^2; 1 a^2 a^4];\n",
    "\n",
    "u1 = Tinv(:,1); u2 = Tinv(:,2); u3 = Tinv(:,3);"
   ]
  },
  {
   "cell_type": "markdown",
   "metadata": {},
   "source": [
    "**6.** Låt en insignal $u\\in\\mathbb C^3$ vara given av `u=randn(3,1)`. \n",
    "- **(a)** Lös ut $y$ ur ekvationen \n",
    "    $$ A y = u $$\n",
    "    genom att transformera $U= T u$ multiplicera med (`.*`) $H$ och slutligen inverstransformera. \n",
    "- **(b)** Gör samma sak men använd MATLABs funktioner `fft` och `ifft` istället. "
   ]
  },
  {
   "cell_type": "code",
   "execution_count": 19,
   "metadata": {},
   "outputs": [],
   "source": [
    "u = randn(3,1);\n",
    "U = T * u;"
   ]
  },
  {
   "cell_type": "raw",
   "metadata": {},
   "source": []
  },
  {
   "cell_type": "code",
   "execution_count": null,
   "metadata": {},
   "outputs": [],
   "source": []
  }
 ],
 "metadata": {
  "kernelspec": {
   "display_name": "Octave",
   "language": "octave",
   "name": "octave"
  },
  "language_info": {
   "file_extension": ".m",
   "help_links": [
    {
     "text": "GNU Octave",
     "url": "https://www.gnu.org/software/octave/support.html"
    },
    {
     "text": "Octave Kernel",
     "url": "https://github.com/Calysto/octave_kernel"
    },
    {
     "text": "MetaKernel Magics",
     "url": "https://metakernel.readthedocs.io/en/latest/source/README.html"
    }
   ],
   "mimetype": "text/x-octave",
   "name": "octave",
   "version": "5.2.0"
  }
 },
 "nbformat": 4,
 "nbformat_minor": 2
}
